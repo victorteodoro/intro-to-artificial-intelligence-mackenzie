{
 "cells": [
  {
   "cell_type": "markdown",
   "metadata": {},
   "source": [
    "# Exercise solution"
   ]
  },
  {
   "cell_type": "markdown",
   "metadata": {},
   "source": [
    "![Alt text](image.png)"
   ]
  },
  {
   "cell_type": "markdown",
   "metadata": {},
   "source": [
    "Escreva um código Python que usa o miniKanren para construir a árvore genealógica da imagem e que seja possível obter as seguintes informações: \n",
    "\n",
    "- Os pais de uma pessoa específica. \n",
    "- Os filhos de uma pessoa específica. \n",
    "- Os irmãos de uma pessoa específica. \n",
    "- Os avós maternos de uma pessoa específica. \n",
    "- Os avós paternos de uma pessoa específica. \n",
    "- Os avós (maternos e paternos) de uma pessoa específica. "
   ]
  },
  {
   "cell_type": "code",
   "execution_count": 54,
   "metadata": {},
   "outputs": [],
   "source": [
    "from kanren import facts, var, eq, lall, lany, run, Relation, membero"
   ]
  },
  {
   "cell_type": "code",
   "execution_count": 56,
   "metadata": {},
   "outputs": [],
   "source": [
    "# Define relations\n",
    "mother = Relation()\n",
    "father = Relation()"
   ]
  },
  {
   "cell_type": "code",
   "execution_count": 73,
   "metadata": {},
   "outputs": [],
   "source": [
    "# The parents are the mother and father of `person`\n",
    "def parents(x, person):\n",
    "    return lany(\n",
    "        mother(x, person),\n",
    "        father(x, person)\n",
    "    )\n",
    "\n",
    "# The siblings are those who share the same set father (or mother) with `person`\n",
    "def siblings(x, person):\n",
    "    y = var()\n",
    "    return lall(\n",
    "        father(y, person),\n",
    "        father(y, x)\n",
    "    )\n",
    "\n",
    "# The chidren of a `person` are those whose father or mother are the `person`\n",
    "def children(x, person):\n",
    "    return lany(\n",
    "       father(person, x),\n",
    "       mother(person, x)\n",
    "    )\n",
    "\n",
    "# The paternal grandparents of a `person` are the parents of the father of the person\n",
    "def paternal_grandparents(x, person):\n",
    "    y = var()\n",
    "    return lall(\n",
    "        parents(x, y),\n",
    "        father(y, person)\n",
    "    )\n",
    "\n",
    "# The maternal grandparents of a `person` are the parents of the mother of the person\n",
    "def maternal_grandparents(x, person):\n",
    "    y = var()\n",
    "    return lall(\n",
    "        parents(x, y),\n",
    "        mother(y, person)\n",
    "    )\n",
    "\n",
    "# The grandparents of a `person` are either the paternal grandparents or the maternal grandparents\n",
    "def grandparents(x, person):\n",
    "    return lany(\n",
    "        paternal_grandparents(x, person),\n",
    "        maternal_grandparents(x, person)\n",
    "    )"
   ]
  },
  {
   "cell_type": "code",
   "execution_count": 58,
   "metadata": {},
   "outputs": [],
   "source": [
    "# Define constants\n",
    "eric = 'Eric'\n",
    "carol = 'Carol'\n",
    "thomas = 'Thomas'\n",
    "olga = 'Olga'\n",
    "ken = 'Ken'\n",
    "renata = 'Renata'\n",
    "john = 'John'\n",
    "julia = 'Julia'\n",
    "leo = 'Leo'\n",
    "angela = 'Angela'\n",
    "karen = 'Karen'\n",
    "rodrigo = 'Rodrigo'\n",
    "lisa = 'Lisa'\n",
    "bia = 'Bia'\n",
    "arthur = 'Arthur'\n",
    "cris = 'Cris'\n",
    "silvia = 'Silvia'"
   ]
  },
  {
   "cell_type": "code",
   "execution_count": 67,
   "metadata": {},
   "outputs": [],
   "source": [
    "# Define facts\n",
    "facts(father, (eric, john))\n",
    "facts(father, (eric, julia))\n",
    "facts(father, (eric, leo))\n",
    "facts(mother, (carol, john))\n",
    "facts(mother, (carol, julia))\n",
    "facts(mother, (carol, leo))\n",
    "\n",
    "facts(father, (thomas, angela))\n",
    "facts(father, (thomas, karen))\n",
    "facts(mother, (olga, angela))\n",
    "facts(mother, (olga, karen))\n",
    "\n",
    "facts(father, (ken, rodrigo))\n",
    "facts(mother, (renata, rodrigo))\n",
    "\n",
    "facts(father, (leo, lisa))\n",
    "facts(father, (leo, bia))\n",
    "facts(father, (leo, arthur))\n",
    "facts(mother, (angela, lisa))\n",
    "facts(mother, (angela, bia))\n",
    "facts(mother, (angela, arthur))\n",
    "\n",
    "facts(father, (rodrigo, cris))\n",
    "facts(father, (rodrigo, silvia))\n",
    "facts(mother, (karen, cris))\n",
    "facts(mother, (karen, silvia))"
   ]
  },
  {
   "cell_type": "code",
   "execution_count": 52,
   "metadata": {},
   "outputs": [
    {
     "data": {
      "text/plain": [
       "('Angela', 'Leo')"
      ]
     },
     "execution_count": 52,
     "metadata": {},
     "output_type": "execute_result"
    }
   ],
   "source": [
    "t = var()\n",
    "run(2, t, parents(t, arthur))"
   ]
  },
  {
   "cell_type": "code",
   "execution_count": 53,
   "metadata": {},
   "outputs": [
    {
     "data": {
      "text/plain": [
       "('Arthur', 'Bia', 'Lisa')"
      ]
     },
     "execution_count": 53,
     "metadata": {},
     "output_type": "execute_result"
    }
   ],
   "source": [
    "t = var()\n",
    "run(3, t, siblings(t, arthur))"
   ]
  },
  {
   "cell_type": "code",
   "execution_count": 70,
   "metadata": {},
   "outputs": [
    {
     "data": {
      "text/plain": [
       "('Bia', 'Lisa', 'Arthur')"
      ]
     },
     "execution_count": 70,
     "metadata": {},
     "output_type": "execute_result"
    }
   ],
   "source": [
    "t = var()\n",
    "run(3, t, children(t, leo))"
   ]
  },
  {
   "cell_type": "code",
   "execution_count": 69,
   "metadata": {},
   "outputs": [
    {
     "data": {
      "text/plain": [
       "('Bia', 'Lisa', 'Arthur')"
      ]
     },
     "execution_count": 69,
     "metadata": {},
     "output_type": "execute_result"
    }
   ],
   "source": [
    "t = var()\n",
    "run(3, t, children(t, angela))"
   ]
  },
  {
   "cell_type": "code",
   "execution_count": 72,
   "metadata": {},
   "outputs": [
    {
     "data": {
      "text/plain": [
       "('Carol', 'Eric')"
      ]
     },
     "execution_count": 72,
     "metadata": {},
     "output_type": "execute_result"
    }
   ],
   "source": [
    "t = var()\n",
    "run(2, t, paternal_grandparents(t, arthur))"
   ]
  },
  {
   "cell_type": "code",
   "execution_count": 74,
   "metadata": {},
   "outputs": [
    {
     "data": {
      "text/plain": [
       "('Thomas', 'Olga')"
      ]
     },
     "execution_count": 74,
     "metadata": {},
     "output_type": "execute_result"
    }
   ],
   "source": [
    "t = var()\n",
    "run(2, t, maternal_grandparents(t, arthur))"
   ]
  },
  {
   "cell_type": "code",
   "execution_count": 75,
   "metadata": {},
   "outputs": [
    {
     "data": {
      "text/plain": [
       "('Carol', 'Thomas', 'Eric', 'Olga')"
      ]
     },
     "execution_count": 75,
     "metadata": {},
     "output_type": "execute_result"
    }
   ],
   "source": [
    "t = var()\n",
    "run(4, t, grandparents(t, arthur))"
   ]
  }
 ],
 "metadata": {
  "kernelspec": {
   "display_name": "intro-to-ai",
   "language": "python",
   "name": "python3"
  },
  "language_info": {
   "codemirror_mode": {
    "name": "ipython",
    "version": 3
   },
   "file_extension": ".py",
   "mimetype": "text/x-python",
   "name": "python",
   "nbconvert_exporter": "python",
   "pygments_lexer": "ipython3",
   "version": "3.11.5"
  },
  "orig_nbformat": 4
 },
 "nbformat": 4,
 "nbformat_minor": 2
}
