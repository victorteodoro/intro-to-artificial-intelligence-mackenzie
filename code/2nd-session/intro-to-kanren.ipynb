{
 "cells": [
  {
   "cell_type": "markdown",
   "metadata": {},
   "source": [
    "# First steps in `miniKanren`\n",
    "\n",
    "`miniKanren` is a package to represent logical relations and knowledge implemented in a number of different languages. Here we're using the python implementation."
   ]
  },
  {
   "cell_type": "code",
   "execution_count": 1,
   "metadata": {},
   "outputs": [],
   "source": [
    "from kanren import Relation, facts, run, eq, membero, var, lall\n",
    "from kanren.constraints import neq, isinstanceo"
   ]
  },
  {
   "cell_type": "code",
   "execution_count": 2,
   "metadata": {},
   "outputs": [],
   "source": [
    "parent = Relation()\n",
    "facts(parent, (\"Homer\", \"Bart\"),\n",
    "      (\"Homer\", \"Lisa\"),\n",
    "      (\"Abe\",  \"Homer\"))"
   ]
  },
  {
   "cell_type": "code",
   "execution_count": 3,
   "metadata": {},
   "outputs": [
    {
     "data": {
      "text/plain": [
       "('Homer',)"
      ]
     },
     "execution_count": 3,
     "metadata": {},
     "output_type": "execute_result"
    }
   ],
   "source": [
    "x = var()\n",
    "run(1, x, parent(x, 'Bart'))"
   ]
  },
  {
   "cell_type": "code",
   "execution_count": 4,
   "metadata": {},
   "outputs": [
    {
     "data": {
      "text/plain": [
       "('Bart', 'Lisa')"
      ]
     },
     "execution_count": 4,
     "metadata": {},
     "output_type": "execute_result"
    }
   ],
   "source": [
    "run(2, x, parent(\"Homer\", x))"
   ]
  },
  {
   "cell_type": "code",
   "execution_count": 5,
   "metadata": {},
   "outputs": [
    {
     "data": {
      "text/plain": [
       "('Abe',)"
      ]
     },
     "execution_count": 5,
     "metadata": {},
     "output_type": "execute_result"
    }
   ],
   "source": [
    "grandparent_lv, parent_lv = var(), var()\n",
    "\n",
    "run(1, grandparent_lv, parent(grandparent_lv, parent_lv), parent(parent_lv, 'Bart'))"
   ]
  },
  {
   "cell_type": "code",
   "execution_count": 6,
   "metadata": {},
   "outputs": [],
   "source": [
    "def grandparent(x, z):\n",
    "    y = var()\n",
    "    return lall(parent(x, y), parent(y, z))"
   ]
  },
  {
   "cell_type": "code",
   "execution_count": 8,
   "metadata": {},
   "outputs": [
    {
     "data": {
      "text/plain": [
       "('Abe',)"
      ]
     },
     "execution_count": 8,
     "metadata": {},
     "output_type": "execute_result"
    }
   ],
   "source": [
    "run(1, x, grandparent(x, 'Lisa'))"
   ]
  },
  {
   "cell_type": "code",
   "execution_count": 10,
   "metadata": {},
   "outputs": [
    {
     "data": {
      "text/plain": [
       "(2,)"
      ]
     },
     "execution_count": 10,
     "metadata": {},
     "output_type": "execute_result"
    }
   ],
   "source": [
    "run(0, x,\n",
    "    neq(x, 1),  # Not \"equal\" to 1\n",
    "    neq(x, 3),  # Not \"equal\" to 3\n",
    "    membero(x, (1, 2, 3)))"
   ]
  },
  {
   "cell_type": "code",
   "execution_count": 11,
   "metadata": {},
   "outputs": [
    {
     "data": {
      "text/plain": [
       "(2, 4)"
      ]
     },
     "execution_count": 11,
     "metadata": {},
     "output_type": "execute_result"
    }
   ],
   "source": [
    "from numbers import Integral\n",
    "\n",
    "run(0, x,\n",
    "    isinstanceo(x, Integral),  # `x` must be of type `Integral`\n",
    "    membero(x, (1.1, 2, 3.2, 4)))"
   ]
  },
  {
   "cell_type": "markdown",
   "metadata": {},
   "source": [
    "## Exemplos from the class\n",
    "Examples given in the [reading materials](https://eadgrad.mackenzie.br/mod/book/view.php?id=351025&chapterid=14042) of the class."
   ]
  },
  {
   "cell_type": "code",
   "execution_count": 15,
   "metadata": {},
   "outputs": [],
   "source": [
    "from kanren import Relation, fact, facts, run, var, conde"
   ]
  },
  {
   "cell_type": "code",
   "execution_count": 14,
   "metadata": {},
   "outputs": [
    {
     "data": {
      "text/plain": [
       "('Sócrates',)"
      ]
     },
     "execution_count": 14,
     "metadata": {},
     "output_type": "execute_result"
    }
   ],
   "source": [
    "man = Relation()\n",
    "\n",
    "fact(man, 'Sócrates')\n",
    "\n",
    "def mortal(x): return man(x)\n",
    "\n",
    "x = var()\n",
    "run(1, x, mortal(x))"
   ]
  },
  {
   "cell_type": "code",
   "execution_count": 17,
   "metadata": {},
   "outputs": [
    {
     "data": {
      "text/plain": [
       "('Carla',)"
      ]
     },
     "execution_count": 17,
     "metadata": {},
     "output_type": "execute_result"
    }
   ],
   "source": [
    "# Constants\n",
    "maria = 'Maria'\n",
    "carla = 'Carla'\n",
    "lucas = 'Lucas'\n",
    "\n",
    "mother = Relation()\n",
    "sister = Relation()\n",
    "\n",
    "facts(mother, (maria, lucas))\n",
    "facts(sister, (maria, carla))\n",
    "\n",
    "# An aunt is the sister of a mother\n",
    "def aunt(z, y):\n",
    "    x = var()\n",
    "    return conde((mother(x, y), sister(x, z)))\n",
    "\n",
    "t = var()\n",
    "run(1, t, aunt(t, lucas))"
   ]
  }
 ],
 "metadata": {
  "kernelspec": {
   "display_name": "intro-to-ai",
   "language": "python",
   "name": "python3"
  },
  "language_info": {
   "codemirror_mode": {
    "name": "ipython",
    "version": 3
   },
   "file_extension": ".py",
   "mimetype": "text/x-python",
   "name": "python",
   "nbconvert_exporter": "python",
   "pygments_lexer": "ipython3",
   "version": "3.11.5"
  },
  "orig_nbformat": 4
 },
 "nbformat": 4,
 "nbformat_minor": 2
}
