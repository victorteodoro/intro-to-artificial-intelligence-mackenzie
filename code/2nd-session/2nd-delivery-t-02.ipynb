{
 "cells": [
  {
   "cell_type": "markdown",
   "metadata": {},
   "source": [
    "# 2nd group delivery\n",
    "\n",
    "Based on the prompt [available here](https://eadgrad.mackenzie.br/mod/assign/view.php?id=351030)."
   ]
  },
  {
   "cell_type": "markdown",
   "metadata": {},
   "source": [
    "Existe um problema lógico baseado no conto Alice no País das Maravilhas, de Lewis Carol, em que Alice entra na floresta encantada e esquece qual é o dia da semana. Na floresta, ela encontra duas criaturas, o leão e o unicórnio. Alice quer saber o dia da semana e pretende obter essa informação com as duas criaturas. No entanto, sabe-se que o leão mente nas segundas, terças e quartas e fala a verdade nos outros dias da semana, enquanto que o unicórnio mente nas quintas, sextas e sábados e fala a verdade nos outros dias da semana. \n",
    "\n",
    "Ao perguntar qual é o dia da semana, Alice recebe as seguintes respostas: \n",
    "\n",
    "**Leão**: Vou mentir amanhã. \n",
    "**Unicórnio**: O Leão mentirá amanhã.\n",
    "\n",
    "A pergunta desse problema é: **Qual é o dia da semana?**"
   ]
  },
  {
   "cell_type": "code",
   "execution_count": 2,
   "metadata": {},
   "outputs": [],
   "source": [
    "from kanren import Relation, run, var, lall, lany, facts"
   ]
  },
  {
   "cell_type": "code",
   "execution_count": 3,
   "metadata": {},
   "outputs": [],
   "source": [
    "doesnt_lie = Relation()"
   ]
  },
  {
   "cell_type": "code",
   "execution_count": 4,
   "metadata": {},
   "outputs": [],
   "source": [
    "# Define the animals\n",
    "lion = 'Lion'\n",
    "unicorn = 'Unicorn'\n",
    "\n",
    "# Define the days of the week\n",
    "mon = 'Monday'\n",
    "tue = 'Tuesday'\n",
    "wed = 'Wednesday'\n",
    "thu = 'Thursday'\n",
    "fri = 'Friday'\n",
    "sat = 'Saturday'\n",
    "sun = 'Sunday'"
   ]
  },
  {
   "cell_type": "code",
   "execution_count": 8,
   "metadata": {},
   "outputs": [],
   "source": [
    "# The lion lies in which days\n",
    "facts(doesnt_lie, (lion, thu))\n",
    "facts(doesnt_lie, (lion, fri))\n",
    "facts(doesnt_lie, (lion, sat))\n",
    "facts(doesnt_lie, (lion, sun))\n",
    "\n",
    "# The unicorn lies in which days\n",
    "facts(doesnt_lie, (unicorn, sun))\n",
    "facts(doesnt_lie, (unicorn, mon))\n",
    "facts(doesnt_lie, (unicorn, tue))\n",
    "facts(doesnt_lie, (unicorn, wed))"
   ]
  },
  {
   "cell_type": "code",
   "execution_count": 15,
   "metadata": {},
   "outputs": [],
   "source": [
    "# First we must know in which days an `animal` doesn't lie\n",
    "def days_i_dont_lie(days, animal):\n",
    "    return lany(doesnt_lie(animal, days))\n",
    "\n",
    "# Then we must find out in which days both animals don't lie\n",
    "def which_day_is_it(day, animal1, animal2):\n",
    "    return lall(days_i_dont_lie(day, animal1), days_i_dont_lie(day, animal2))"
   ]
  },
  {
   "cell_type": "code",
   "execution_count": 10,
   "metadata": {},
   "outputs": [
    {
     "data": {
      "text/plain": [
       "('Saturday', 'Thursday', 'Sunday', 'Friday')"
      ]
     },
     "execution_count": 10,
     "metadata": {},
     "output_type": "execute_result"
    }
   ],
   "source": [
    "x = var()\n",
    "run(4, x, days_i_dont_lie(x, lion))"
   ]
  },
  {
   "cell_type": "code",
   "execution_count": 16,
   "metadata": {},
   "outputs": [
    {
     "data": {
      "text/plain": [
       "('Sunday',)"
      ]
     },
     "execution_count": 16,
     "metadata": {},
     "output_type": "execute_result"
    }
   ],
   "source": [
    "x = var()\n",
    "run(1, x, which_day_is_it(x, lion, unicorn))"
   ]
  }
 ],
 "metadata": {
  "kernelspec": {
   "display_name": "intro-to-ai",
   "language": "python",
   "name": "python3"
  },
  "language_info": {
   "codemirror_mode": {
    "name": "ipython",
    "version": 3
   },
   "file_extension": ".py",
   "mimetype": "text/x-python",
   "name": "python",
   "nbconvert_exporter": "python",
   "pygments_lexer": "ipython3",
   "version": "3.11.5"
  },
  "orig_nbformat": 4
 },
 "nbformat": 4,
 "nbformat_minor": 2
}
